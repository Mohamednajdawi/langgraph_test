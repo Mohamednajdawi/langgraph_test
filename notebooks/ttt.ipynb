{
 "cells": [
  {
   "cell_type": "code",
   "execution_count": 98,
   "metadata": {},
   "outputs": [],
   "source": [
    "from langchain.chat_models import ChatOpenAI\n",
    "from langchain.tools import Tool\n",
    "from langchain.agents import tool\n",
    "from langchain.chains import LLMMathChain\n",
    "from langchain.utilities import WikipediaAPIWrapper\n",
    "\n",
    "from langgraph.graph import StateGraph, END\n",
    "from typing import TypedDict, List, Annotated\n",
    "from langchain.schema import SystemMessage\n",
    "\n",
    "import os\n"
   ]
  },
  {
   "cell_type": "code",
   "execution_count": 99,
   "metadata": {},
   "outputs": [],
   "source": [
    "openai_api_key = os.getenv(\"OPENAI_API_KEY\")"
   ]
  },
  {
   "cell_type": "code",
   "execution_count": 100,
   "metadata": {},
   "outputs": [],
   "source": [
    "from langchain.tools import WikipediaQueryRun\n",
    "from langchain.utilities import WikipediaAPIWrapper\n",
    "\n",
    "wiki = WikipediaQueryRun(api_wrapper=WikipediaAPIWrapper(top_k_results=3, lang=\"en\"))\n",
    "\n",
    "@tool\n",
    "def wiki_search(query: str) -> str:\n",
    "    \"\"\"Search Wikipedia for a given query.\"\"\"\n",
    "    try:\n",
    "        result = wiki.run(query)\n",
    "        if not result or \"may refer to\" in result.lower() or len(result.strip()) < 50:\n",
    "            return \"No relevant result found on Wikipedia.\"\n",
    "        # Truncate very long results to keep memory manageable\n",
    "        if len(result) > 1000:\n",
    "            result = result[:1000] + \"...\"\n",
    "        return result\n",
    "    except Exception as e:\n",
    "        return f\"Wikipedia search failed: {str(e)}\""
   ]
  },
  {
   "cell_type": "code",
   "execution_count": 101,
   "metadata": {},
   "outputs": [],
   "source": [
    "class AgentState(TypedDict):\n",
    "    task: str\n",
    "    memory: List[str]\n",
    "    next_action: str\n",
    "    failed_attempts: int\n"
   ]
  },
  {
   "cell_type": "code",
   "execution_count": 102,
   "metadata": {},
   "outputs": [],
   "source": [
    "llm = ChatOpenAI(model=\"gpt-4.1-mini-2025-04-14\", temperature=0)\n"
   ]
  },
  {
   "cell_type": "code",
   "execution_count": 103,
   "metadata": {},
   "outputs": [],
   "source": [
    "def planner_node(state: AgentState) -> AgentState:\n",
    "    # Count how much information we've gathered\n",
    "    research_entries = [entry for entry in state['memory'] if entry.startswith(\"Researcher found:\")]\n",
    "    \n",
    "    prompt = (\n",
    "        f\"You are planning how to complete this task: '{state['task']}'.\\n\"\n",
    "        f\"Here is what you've gathered so far:\\n{state['memory']}\\n\\n\"\n",
    "        f\"You have gathered {len(research_entries)} pieces of information.\\n\\n\"\n",
    "        \"IMPORTANT: If you have gathered 3 or more pieces of research information, \"\n",
    "        \"or if the information already covers the basic concepts of the task \"\n",
    "        \"reply with exactly: 'STOP'\\n\\n\"\n",
    "        \"If you need more specific information, provide a SHORT search term (1-3 words). \"\n",
    "        \"Examples: 'photosynthesis', 'Leo Messi', 'shakira', 'american shorthair'\"\n",
    "    )\n",
    "    response = llm.invoke(prompt)\n",
    "    print(f\"Planner: {response.content}\")\n",
    "    return {\n",
    "        **state,\n",
    "        \"next_action\": response.content,\n",
    "        \"memory\": state[\"memory\"] + [f\"Planner: {response.content}\"]\n",
    "    }\n",
    "\n",
    "def researcher_node(state: AgentState) -> AgentState:\n",
    "    # Extract a clean search term from the planner's response\n",
    "    search_term = state[\"next_action\"].strip()\n",
    "    \n",
    "    # If it's too long or contains instructions, extract key terms\n",
    "    if len(search_term.split()) > 3 or \"should\" in search_term.lower():\n",
    "        # Look for key terms related to the task\n",
    "        task_lower = state['task'].lower()\n",
    "        \n",
    "        # Extract potential search terms from the task\n",
    "        important_words = []\n",
    "        for word in task_lower.split():\n",
    "            if len(word) > 3 and word not in ['what', 'how', 'does', 'work', 'works', 'tell', 'about']:\n",
    "                important_words.append(word)\n",
    "        \n",
    "        # Use the first important word, or extract from search term\n",
    "        if important_words:\n",
    "            search_term = important_words[0]\n",
    "        else:\n",
    "            # Extract first meaningful word from search term\n",
    "            words = [w for w in search_term.split() if len(w) > 3]\n",
    "            search_term = words[0] if words else search_term.split()[0]\n",
    "    \n",
    "    print(f\"Researcher: Searching for → '{search_term}'\")\n",
    "    result = wiki_search(search_term)\n",
    "    \n",
    "    if \"No relevant result\" in result:\n",
    "        state[\"failed_attempts\"] += 1\n",
    "        print(f\"❌ Search failed. Attempt {state['failed_attempts']}/3\")\n",
    "    else:\n",
    "        state[\"failed_attempts\"] = 0  # reset if successful\n",
    "        print(\"✅ Found information!\")\n",
    "\n",
    "    return {\n",
    "        **state,\n",
    "        \"memory\": state[\"memory\"] + [f\"Researcher found: {result}\"],\n",
    "        \"failed_attempts\": state[\"failed_attempts\"],\n",
    "    }\n",
    "\n",
    "def summarizer_node(state: AgentState) -> AgentState:\n",
    "    # Extract only the research results for summarization\n",
    "    research_entries = [entry for entry in state['memory'] if entry.startswith(\"Researcher found:\")]\n",
    "    research_data = \"\\n\\n\".join([entry.replace(\"Researcher found: \", \"\") for entry in research_entries])\n",
    "    \n",
    "    prompt = (\n",
    "        f\"Based on the research gathered, provide a concise and clear answer to: '{state['task']}'\\n\\n\"\n",
    "        f\"Research data:\\n{research_data}\\n\\n\"\n",
    "        \"Please synthesize this information into a comprehensive but concise answer. \"\n",
    "        \"Focus on the key concepts and processes. Keep it under 200 words.\"\n",
    "    )\n",
    "    \n",
    "    response = llm.invoke(prompt)\n",
    "    summary = response.content\n",
    "    print(f\"📝 Summarizer: {summary}\")\n",
    "    \n",
    "    return {\n",
    "        **state,\n",
    "        \"next_action\": \"COMPLETED\",\n",
    "        \"memory\": state[\"memory\"] + [f\"Final Summary: {summary}\"]\n",
    "    }\n",
    "\n",
    "def should_continue(state: AgentState) -> str:\n",
    "    # Check for explicit stop command\n",
    "    if \"stop\" in state[\"next_action\"].lower():\n",
    "        print(\"🛑 Moving to summarizer...\")\n",
    "        return \"summarize\"\n",
    "    \n",
    "    # Count research entries\n",
    "    research_entries = [entry for entry in state['memory'] if entry.startswith(\"Researcher found:\")]\n",
    "    \n",
    "    # Auto-stop if we have enough information\n",
    "    if len(research_entries) >= 3:\n",
    "        print(\"🛑 Auto-stopping: Gathered sufficient information (3+ research results)\")\n",
    "        return \"summarize\"\n",
    "    \n",
    "    # Stop on too many failed attempts\n",
    "    if state.get(\"failed_attempts\", 0) >= 3:\n",
    "        print(\"🔁 Too many failed attempts. Moving to summarizer...\")\n",
    "        return \"summarize\"\n",
    "    \n",
    "    # Prevent infinite loops with memory check\n",
    "    if len(state[\"memory\"]) > 12:  # Allow a bit more room\n",
    "        print(\"🔄 Maximum iterations reached. Moving to summarizer...\")\n",
    "        return \"summarize\"\n",
    "    \n",
    "    return \"research\""
   ]
  },
  {
   "cell_type": "code",
   "execution_count": 104,
   "metadata": {},
   "outputs": [],
   "source": [
    "builder = StateGraph(AgentState)\n",
    "\n",
    "builder.add_node(\"planner\", planner_node)\n",
    "builder.add_node(\"research\", researcher_node)\n",
    "builder.add_node(\"summarize\", summarizer_node)\n",
    "\n",
    "builder.set_entry_point(\"planner\")\n",
    "builder.add_edge(\"planner\", \"research\")\n",
    "builder.add_conditional_edges(\"research\", should_continue, {\n",
    "    \"research\": \"planner\",\n",
    "    \"summarize\": \"summarize\"\n",
    "})\n",
    "builder.add_edge(\"summarize\", END)\n",
    "\n",
    "# Compile with a reasonable recursion limit\n",
    "graph = builder.compile()"
   ]
  },
  {
   "cell_type": "code",
   "execution_count": 105,
   "metadata": {},
   "outputs": [
    {
     "name": "stdout",
     "output_type": "stream",
     "text": [
      "Planner: King Abdallah\n",
      "Researcher: Searching for → 'King Abdallah'\n",
      "✅ Found information!\n",
      "Planner: King Abdallah biography\n",
      "Researcher: Searching for → 'King Abdallah biography'\n",
      "✅ Found information!\n",
      "Planner: King Abdullah II\n",
      "Researcher: Searching for → 'King Abdullah II'\n",
      "✅ Found information!\n",
      "🛑 Auto-stopping: Gathered sufficient information (3+ research results)\n",
      "📝 Summarizer: King Abdullah II of Jordan, born on January 30, 1962, is the reigning monarch of Jordan, having ascended the throne on February 7, 1999. He belongs to the Hashemite family, which has ruled Jordan since 1921, and is traditionally recognized as a 41st-generation direct descendant of the Prophet Muhammad. Abdullah is the eldest son of King Hussein and Princess Muna. Initially heir apparent, the title was transferred to his uncle Prince Hassan in 1965. Abdullah was educated both in Amman and abroad and began his military career in 1980. He rose through the ranks, commanding Jordan’s Special Forces in 1994 and becoming a major general by 1998. In 1993, he married Rania Al-Yassin, and they have four children: Crown Prince Hussein, Princess Iman, Princess Salma, and Prince Hashem. Abdullah II’s reign continues the Hashemite legacy, emphasizing both Jordan’s stability and its historical lineage.\n",
      "\n",
      "============================================================\n",
      "✅ Execution completed successfully!\n",
      "📊 Statistics:\n",
      "   • Total memory entries: 7\n",
      "   • Planner decisions: 3\n",
      "   • Research results: 3\n",
      "   • Final summaries: 1\n",
      "   • Failed attempts: 0\n",
      "   • Status: ✅ Completed with summary\n",
      "============================================================\n"
     ]
    }
   ],
   "source": [
    "\n",
    "# Reset the state for a clean test\n",
    "test_state = {\n",
    "    \"task\": \"Tell me about king abdallah\",\n",
    "    \"memory\": [],\n",
    "    \"next_action\": \"\",\n",
    "    \"failed_attempts\": 0\n",
    "}\n",
    "\n",
    "# Run with increased recursion limit but better auto-stopping\n",
    "config = {\"recursion_limit\": 15}\n",
    "try:\n",
    "    final_state = graph.invoke(test_state, config=config)\n",
    "    print(\"\\n\" + \"=\" * 60)\n",
    "    print(\"✅ Execution completed successfully!\")\n",
    "    \n",
    "    # Count different types of entries\n",
    "    planner_entries = [e for e in final_state['memory'] if e.startswith(\"Planner:\")]\n",
    "    research_entries = [e for e in final_state['memory'] if e.startswith(\"Researcher found:\")]\n",
    "    summary_entries = [e for e in final_state['memory'] if e.startswith(\"Final Summary:\")]\n",
    "    \n",
    "    print(f\"📊 Statistics:\")\n",
    "    print(f\"   • Total memory entries: {len(final_state['memory'])}\")\n",
    "    print(f\"   • Planner decisions: {len(planner_entries)}\")\n",
    "    print(f\"   • Research results: {len(research_entries)}\")\n",
    "    print(f\"   • Final summaries: {len(summary_entries)}\")\n",
    "    print(f\"   • Failed attempts: {final_state['failed_attempts']}\")\n",
    "    print(f\"   • Status: {'✅ Completed with summary' if summary_entries else '⚠️ Incomplete'}\")\n",
    "    \n",
    "except Exception as e:\n",
    "    print(f\"❌ Error: {e}\")\n",
    "    \n",
    "print(\"=\" * 60)\n"
   ]
  },
  {
   "cell_type": "code",
   "execution_count": 106,
   "metadata": {},
   "outputs": [
    {
     "name": "stdout",
     "output_type": "stream",
     "text": [
      "🤖 AGENT CONVERSATION SUMMARY\n",
      "============================================================\n",
      "📋 Task: Tell me about king abdallah\n",
      "🔄 Failed Attempts: 0\n",
      "\n",
      "🎯 FINAL ANSWER:\n",
      "========================================\n",
      "King Abdullah II of Jordan, born on January 30, 1962, is the reigning monarch of Jordan, having ascended the throne on February 7, 1999. He belongs to the Hashemite family, which has ruled Jordan since 1921, and is traditionally recognized as a 41st-generation direct descendant of the Prophet Muhammad. Abdullah is the eldest son of King Hussein and Princess Muna. Initially heir apparent, the title was transferred to his uncle Prince Hassan in 1965. Abdullah was educated both in Amman and abroad and began his military career in 1980. He rose through the ranks, commanding Jordan’s Special Forces in 1994 and becoming a major general by 1998. In 1993, he married Rania Al-Yassin, and they have four children: Crown Prince Hussein, Princess Iman, Princess Salma, and Prince Hashem. Abdullah II’s reign continues the Hashemite legacy, emphasizing both Jordan’s stability and its historical lineage.\n",
      "========================================\n",
      "\n",
      "📝 Detailed Conversation History:\n",
      "----------------------------------------\n",
      "\n",
      "1. 🧠 Planner: King Abdallah\n",
      "2. 🔍 Researcher found: Page: Abdullah II of Jordan\n",
      "Summary: Abdullah II (Abdullah bin Hussein; born 30 January 1962) is King of Jordan, having ascended the throne on 7 February 1999. He is a member of the Hashemites, who have been the reigning royal family of Jordan since 1921, and is traditionally regarded a 41st-generation direct descendant of the prophet Muhammad.\n",
      "Abdullah was born in Amman, as the first child of King Hussein and his wife, Princess Muna. As the king's eldest son, Abdullah was heir apparent until Hussein transferred the title to Abdullah's uncle Prince Hassan in 1965. Abdullah began his schooling in Amman, continuing his education abroad. He began his military career in 1980 as a training officer in the Jordanian Armed Forces, later assuming command of the country's Special Forces in 1994, eventually becoming a major general in 1998. In 1993, Abdullah married Rania Al-Yassin, with whom he has four children: Crown Prince Hussein, Princess Iman, Princess Salma and Prince Hashem. A few weeks ...\n",
      "\n",
      "3. 🧠 Planner: King Abdallah biography\n",
      "4. 🔍 Researcher found: Page: Abdullah II of Jordan\n",
      "Summary: Abdullah II (Abdullah bin Hussein; born 30 January 1962) is King of Jordan, having ascended the throne on 7 February 1999. He is a member of the Hashemites, who have been the reigning royal family of Jordan since 1921, and is traditionally regarded a 41st-generation direct descendant of the prophet Muhammad.\n",
      "Abdullah was born in Amman, as the first child of King Hussein and his wife, Princess Muna. As the king's eldest son, Abdullah was heir apparent until Hussein transferred the title to Abdullah's uncle Prince Hassan in 1965. Abdullah began his schooling in Amman, continuing his education abroad. He began his military career in 1980 as a training officer in the Jordanian Armed Forces, later assuming command of the country's Special Forces in 1994, eventually becoming a major general in 1998. In 1993, Abdullah married Rania Al-Yassin, with whom he has four children: Crown Prince Hussein, Princess Iman, Princess Salma and Prince Hashem. A few weeks ...\n",
      "\n",
      "5. 🧠 Planner: King Abdullah II\n",
      "6. 🔍 Researcher found: Page: Abdullah II of Jordan\n",
      "Summary: Abdullah II (Abdullah bin Hussein; born 30 January 1962) is King of Jordan, having ascended the throne on 7 February 1999. He is a member of the Hashemites, who have been the reigning royal family of Jordan since 1921, and is traditionally regarded a 41st-generation direct descendant of the prophet Muhammad.\n",
      "Abdullah was born in Amman, as the first child of King Hussein and his wife, Princess Muna. As the king's eldest son, Abdullah was heir apparent until Hussein transferred the title to Abdullah's uncle Prince Hassan in 1965. Abdullah began his schooling in Amman, continuing his education abroad. He began his military career in 1980 as a training officer in the Jordanian Armed Forces, later assuming command of the country's Special Forces in 1994, eventually becoming a major general in 1998. In 1993, Abdullah married Rania Al-Yassin, with whom he has four children: Crown Prince Hussein, Princess Iman, Princess Salma and Prince Hashem. A few weeks ...\n",
      "7. 📝 ✨ Final Summary: King Abdullah II of Jordan, born on January 30, 1962, is the reigning monarch of Jordan, having ascended the throne on February 7, 1999. He belongs to the Hashemite family, which has ruled Jordan since 1921, and is traditionally recognized as a 41st-generation direct descendant of the Prophet Muhammad. Abdullah is the eldest son of King Hussein and Princess Muna. Initially heir apparent, the title was transferred to his uncle Prince Hassan in 1965. Abdullah was educated both in Amman and abroad and began his military career in 1980. He rose through the ranks, commanding Jordan’s Special Forces in 1994 and becoming a major general by 1998. In 1993, he married Rania Al-Yassin, and they have four children: Crown Prince Hussein, Princess Iman, Princess Salma, and Prince Hashem. Abdullah II’s reign continues the Hashemite legacy, emphasizing both Jordan’s stability and its historical lineage.\n",
      "\n",
      "============================================================\n"
     ]
    }
   ],
   "source": [
    "# Display the conversation in a readable format\n",
    "def display_conversation(state):\n",
    "    print(\"🤖 AGENT CONVERSATION SUMMARY\")\n",
    "    print(\"=\" * 60)\n",
    "    print(f\"📋 Task: {state['task']}\")\n",
    "    print(f\"🔄 Failed Attempts: {state['failed_attempts']}\")\n",
    "    \n",
    "    # Extract and display the final summary prominently\n",
    "    final_summary = None\n",
    "    for entry in state['memory']:\n",
    "        if entry.startswith(\"Final Summary:\"):\n",
    "            final_summary = entry.replace(\"Final Summary: \", \"\")\n",
    "            break\n",
    "    \n",
    "    if final_summary:\n",
    "        print(f\"\\n🎯 FINAL ANSWER:\")\n",
    "        print(\"=\" * 40)\n",
    "        print(final_summary)\n",
    "        print(\"=\" * 40)\n",
    "    \n",
    "    print(\"\\n📝 Detailed Conversation History:\")\n",
    "    print(\"-\" * 40)\n",
    "    \n",
    "    for i, entry in enumerate(state['memory'], 1):\n",
    "        if entry.startswith(\"Planner:\"):\n",
    "            print(f\"\\n{i}. 🧠 {entry}\")\n",
    "        elif entry.startswith(\"Researcher\"):\n",
    "            print(f\"{i}. 🔍 {entry}\")\n",
    "        elif entry.startswith(\"Final Summary:\"):\n",
    "            print(f\"{i}. 📝 ✨ {entry}\")\n",
    "        else:\n",
    "            print(f\"{i}. {entry}\")\n",
    "    \n",
    "    print(\"\\n\" + \"=\" * 60)\n",
    "\n",
    "# Display the results if the test ran successfully\n",
    "try:\n",
    "    if 'final_state' in locals():\n",
    "        display_conversation(final_state)\n",
    "except:\n",
    "    print(\"Run the previous cell first to execute the graph!\")\n"
   ]
  },
  {
   "cell_type": "code",
   "execution_count": 107,
   "metadata": {},
   "outputs": [
    {
     "name": "stdout",
     "output_type": "stream",
     "text": [
      "Planner: King Abdallah\n",
      "------------------------------------------------------------\n",
      "Researcher found: Page: Abdullah II of Jordan\n",
      "Summary: Abdullah II (Abdullah bin Hussein; born 30 January 1962) is King of Jordan, having ascended the throne on 7 February 1999. He is a member of the Hashemites, who have been the reigning royal family of Jordan since 1921, and is traditionally regarded a 41st-generation direct descendant of the prophet Muhammad.\n",
      "Abdullah was born in Amman, as the first child of King Hussein and his wife, Princess Muna. As the king's eldest son, Abdullah was heir apparent until Hussein transferred the title to Abdullah's uncle Prince Hassan in 1965. Abdullah began his schooling in Amman, continuing his education abroad. He began his military career in 1980 as a training officer in the Jordanian Armed Forces, later assuming command of the country's Special Forces in 1994, eventually becoming a major general in 1998. In 1993, Abdullah married Rania Al-Yassin, with whom he has four children: Crown Prince Hussein, Princess Iman, Princess Salma and Prince Hashem. A few weeks ...\n",
      "------------------------------------------------------------\n",
      "Planner: King Abdallah biography\n",
      "------------------------------------------------------------\n",
      "Researcher found: Page: Abdullah II of Jordan\n",
      "Summary: Abdullah II (Abdullah bin Hussein; born 30 January 1962) is King of Jordan, having ascended the throne on 7 February 1999. He is a member of the Hashemites, who have been the reigning royal family of Jordan since 1921, and is traditionally regarded a 41st-generation direct descendant of the prophet Muhammad.\n",
      "Abdullah was born in Amman, as the first child of King Hussein and his wife, Princess Muna. As the king's eldest son, Abdullah was heir apparent until Hussein transferred the title to Abdullah's uncle Prince Hassan in 1965. Abdullah began his schooling in Amman, continuing his education abroad. He began his military career in 1980 as a training officer in the Jordanian Armed Forces, later assuming command of the country's Special Forces in 1994, eventually becoming a major general in 1998. In 1993, Abdullah married Rania Al-Yassin, with whom he has four children: Crown Prince Hussein, Princess Iman, Princess Salma and Prince Hashem. A few weeks ...\n",
      "------------------------------------------------------------\n",
      "Planner: King Abdullah II\n",
      "------------------------------------------------------------\n",
      "Researcher found: Page: Abdullah II of Jordan\n",
      "Summary: Abdullah II (Abdullah bin Hussein; born 30 January 1962) is King of Jordan, having ascended the throne on 7 February 1999. He is a member of the Hashemites, who have been the reigning royal family of Jordan since 1921, and is traditionally regarded a 41st-generation direct descendant of the prophet Muhammad.\n",
      "Abdullah was born in Amman, as the first child of King Hussein and his wife, Princess Muna. As the king's eldest son, Abdullah was heir apparent until Hussein transferred the title to Abdullah's uncle Prince Hassan in 1965. Abdullah began his schooling in Amman, continuing his education abroad. He began his military career in 1980 as a training officer in the Jordanian Armed Forces, later assuming command of the country's Special Forces in 1994, eventually becoming a major general in 1998. In 1993, Abdullah married Rania Al-Yassin, with whom he has four children: Crown Prince Hussein, Princess Iman, Princess Salma and Prince Hashem. A few weeks ...\n",
      "------------------------------------------------------------\n",
      "Final Summary: King Abdullah II of Jordan, born on January 30, 1962, is the reigning monarch of Jordan, having ascended the throne on February 7, 1999. He belongs to the Hashemite family, which has ruled Jordan since 1921, and is traditionally recognized as a 41st-generation direct descendant of the Prophet Muhammad. Abdullah is the eldest son of King Hussein and Princess Muna. Initially heir apparent, the title was transferred to his uncle Prince Hassan in 1965. Abdullah was educated both in Amman and abroad and began his military career in 1980. He rose through the ranks, commanding Jordan’s Special Forces in 1994 and becoming a major general by 1998. In 1993, he married Rania Al-Yassin, and they have four children: Crown Prince Hussein, Princess Iman, Princess Salma, and Prince Hashem. Abdullah II’s reign continues the Hashemite legacy, emphasizing both Jordan’s stability and its historical lineage.\n",
      "------------------------------------------------------------\n"
     ]
    }
   ],
   "source": [
    "for entry in final_state[\"memory\"]:\n",
    "    print(entry + \"\\n\" + \"-\" * 60)\n"
   ]
  },
  {
   "cell_type": "code",
   "execution_count": 108,
   "metadata": {},
   "outputs": [
    {
     "name": "stdout",
     "output_type": "stream",
     "text": [
      "🎯 QUICK ANSWER\n",
      "==================================================\n",
      "Question: Tell me about king abdallah\n",
      "--------------------------------------------------\n",
      "Answer: King Abdullah II of Jordan, born on January 30, 1962, is the reigning monarch of Jordan, having ascended the throne on February 7, 1999. He belongs to the Hashemite family, which has ruled Jordan since 1921, and is traditionally recognized as a 41st-generation direct descendant of the Prophet Muhammad. Abdullah is the eldest son of King Hussein and Princess Muna. Initially heir apparent, the title was transferred to his uncle Prince Hassan in 1965. Abdullah was educated both in Amman and abroad and began his military career in 1980. He rose through the ranks, commanding Jordan’s Special Forces in 1994 and becoming a major general by 1998. In 1993, he married Rania Al-Yassin, and they have four children: Crown Prince Hussein, Princess Iman, Princess Salma, and Prince Hashem. Abdullah II’s reign continues the Hashemite legacy, emphasizing both Jordan’s stability and its historical lineage.\n",
      "==================================================\n"
     ]
    }
   ],
   "source": [
    "# Quick function to extract and display just the final answer\n",
    "def show_final_answer(state):\n",
    "    print(\"🎯 QUICK ANSWER\")\n",
    "    print(\"=\" * 50)\n",
    "    print(f\"Question: {state['task']}\")\n",
    "    print(\"-\" * 50)\n",
    "    \n",
    "    for entry in state['memory']:\n",
    "        if entry.startswith(\"Final Summary:\"):\n",
    "            answer = entry.replace(\"Final Summary: \", \"\")\n",
    "            print(f\"Answer: {answer}\")\n",
    "            break\n",
    "    else:\n",
    "        print(\"No final summary found. Run the full agent first!\")\n",
    "    \n",
    "    print(\"=\" * 50)\n",
    "\n",
    "# Show the final answer if available\n",
    "try:\n",
    "    if 'final_state' in locals():\n",
    "        show_final_answer(final_state)\n",
    "    else:\n",
    "        print(\"Run the test cell first to generate a final answer!\")\n",
    "except:\n",
    "    print(\"Run the previous cell first to execute the graph!\")\n"
   ]
  },
  {
   "cell_type": "code",
   "execution_count": null,
   "metadata": {},
   "outputs": [],
   "source": [
    "\n"
   ]
  },
  {
   "cell_type": "raw",
   "metadata": {
    "vscode": {
     "languageId": "raw"
    }
   },
   "source": [
    "\n"
   ]
  },
  {
   "cell_type": "code",
   "execution_count": null,
   "metadata": {},
   "outputs": [],
   "source": []
  },
  {
   "cell_type": "raw",
   "metadata": {
    "vscode": {
     "languageId": "raw"
    }
   },
   "source": [
    "\n"
   ]
  }
 ],
 "metadata": {
  "kernelspec": {
   "display_name": "LangGraph Test",
   "language": "python",
   "name": "langgraph_test"
  },
  "language_info": {
   "codemirror_mode": {
    "name": "ipython",
    "version": 3
   },
   "file_extension": ".py",
   "mimetype": "text/x-python",
   "name": "python",
   "nbconvert_exporter": "python",
   "pygments_lexer": "ipython3",
   "version": "3.12.7"
  }
 },
 "nbformat": 4,
 "nbformat_minor": 2
}
